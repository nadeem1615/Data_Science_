{
  "nbformat": 4,
  "nbformat_minor": 0,
  "metadata": {
    "colab": {
      "provenance": [],
      "gpuType": "T4"
    },
    "kernelspec": {
      "name": "python3",
      "display_name": "Python 3"
    },
    "language_info": {
      "name": "python"
    },
    "accelerator": "GPU"
  },
  "cells": [
    {
      "cell_type": "code",
      "execution_count": 1,
      "metadata": {
        "colab": {
          "base_uri": "https://localhost:8080/"
        },
        "id": "vrcA3MVJEBKw",
        "outputId": "1d4f8831-d2c9-4c77-d839-34cfead784c0"
      },
      "outputs": [
        {
          "output_type": "stream",
          "name": "stdout",
          "text": [
            "✅ Accuracy: 0.7412587412587412\n",
            "\n",
            "📊 Classification Report:\n",
            "               precision    recall  f1-score   support\n",
            "\n",
            "           0       0.79      0.78      0.79        87\n",
            "           1       0.67      0.68      0.67        56\n",
            "\n",
            "    accuracy                           0.74       143\n",
            "   macro avg       0.73      0.73      0.73       143\n",
            "weighted avg       0.74      0.74      0.74       143\n",
            "\n",
            "\n",
            "🔍 Sample Predictions:\n",
            "      Pclass  Sex   Age     Fare  Actual  Predicted\n",
            "149       2    1  42.0  13.0000       0          0\n",
            "407       2    1   3.0  18.7500       1          0\n",
            "53        2    0  29.0  26.0000       1          1\n",
            "369       1    0  24.0  69.3000       1          1\n",
            "818       3    1  43.0   6.4500       0          0\n",
            "549       2    1   8.0  36.7500       1          0\n",
            "85        3    0  33.0  15.8500       1          1\n",
            "774       2    0  54.0  23.0000       1          1\n",
            "100       3    0  28.0   7.8958       0          1\n",
            "816       3    0  23.0   7.9250       0          1\n"
          ]
        }
      ],
      "source": [
        "import pandas as pd\n",
        "from sklearn.model_selection import train_test_split\n",
        "from sklearn.naive_bayes import GaussianNB\n",
        "from sklearn.preprocessing import LabelEncoder\n",
        "from sklearn.metrics import accuracy_score, classification_report\n",
        "df = pd.read_csv(\"/content/titanic_train_data.csv\")\n",
        "df = df[['Pclass', 'Sex', 'Age', 'Fare', 'Survived']]\n",
        "df.dropna(inplace=True)\n",
        "le = LabelEncoder()\n",
        "df['Sex'] = le.fit_transform(df['Sex'])\n",
        "X = df[['Pclass', 'Sex', 'Age', 'Fare']]\n",
        "y = df['Survived']\n",
        "X_train, X_test, y_train, y_test = train_test_split(X, y, test_size=0.2, random_state=42)\n",
        "model = GaussianNB()\n",
        "model.fit(X_train, y_train)\n",
        "y_pred = model.predict(X_test)\n",
        "print(\"✅ Accuracy:\", accuracy_score(y_test, y_pred))\n",
        "print(\"\\n📊 Classification Report:\\n\", classification_report(y_test, y_pred))\n",
        "results = X_test.copy()\n",
        "results['Actual'] = y_test.values\n",
        "results['Predicted'] = y_pred\n",
        "print(\"\\n🔍 Sample Predictions:\\n\", results.head(10))\n"
      ]
    }
  ]
}