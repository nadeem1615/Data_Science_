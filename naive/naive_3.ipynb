{
  "nbformat": 4,
  "nbformat_minor": 0,
  "metadata": {
    "colab": {
      "provenance": []
    },
    "kernelspec": {
      "name": "python3",
      "display_name": "Python 3"
    },
    "language_info": {
      "name": "python"
    }
  },
  "cells": [
    {
      "cell_type": "code",
      "execution_count": 2,
      "metadata": {
        "colab": {
          "base_uri": "https://localhost:8080/"
        },
        "id": "At7kj_I8_jOI",
        "outputId": "9c419631-3636-49d3-ef0f-825a99d05802"
      },
      "outputs": [
        {
          "output_type": "stream",
          "name": "stdout",
          "text": [
            "   sepal_length  sepal_width  petal_length  petal_width      species\n",
            "0           5.1          3.5           1.4          0.2  Iris-setosa\n",
            "1           4.9          3.0           1.4          0.2  Iris-setosa\n",
            "2           4.7          3.2           1.3          0.2  Iris-setosa\n",
            "3           4.6          3.1           1.5          0.2  Iris-setosa\n",
            "4           5.0          3.6           1.4          0.2  Iris-setosa\n",
            "Accuracy: 1.0\n",
            "\n",
            "Classification Report:\n",
            "                  precision    recall  f1-score   support\n",
            "\n",
            "    Iris-setosa       1.00      1.00      1.00        10\n",
            "Iris-versicolor       1.00      1.00      1.00         9\n",
            " Iris-virginica       1.00      1.00      1.00        11\n",
            "\n",
            "       accuracy                           1.00        30\n",
            "      macro avg       1.00      1.00      1.00        30\n",
            "   weighted avg       1.00      1.00      1.00        30\n",
            "\n",
            "\n",
            "Sample Predictions:\n",
            "      SepalLength  SepalWidth  PetalLength  PetalWidth           Actual  \\\n",
            "73           6.1         2.8          4.7         1.2  Iris-versicolor   \n",
            "18           5.7         3.8          1.7         0.3      Iris-setosa   \n",
            "118          7.7         2.6          6.9         2.3   Iris-virginica   \n",
            "78           6.0         2.9          4.5         1.5  Iris-versicolor   \n",
            "76           6.8         2.8          4.8         1.4  Iris-versicolor   \n",
            "31           5.4         3.4          1.5         0.4      Iris-setosa   \n",
            "64           5.6         2.9          3.6         1.3  Iris-versicolor   \n",
            "141          6.9         3.1          5.1         2.3   Iris-virginica   \n",
            "68           6.2         2.2          4.5         1.5  Iris-versicolor   \n",
            "82           5.8         2.7          3.9         1.2  Iris-versicolor   \n",
            "\n",
            "           Predicted  \n",
            "73   Iris-versicolor  \n",
            "18       Iris-setosa  \n",
            "118   Iris-virginica  \n",
            "78   Iris-versicolor  \n",
            "76   Iris-versicolor  \n",
            "31       Iris-setosa  \n",
            "64   Iris-versicolor  \n",
            "141   Iris-virginica  \n",
            "68   Iris-versicolor  \n",
            "82   Iris-versicolor  \n"
          ]
        }
      ],
      "source": [
        "import pandas as pd\n",
        "from sklearn.model_selection import train_test_split\n",
        "from sklearn.naive_bayes import GaussianNB\n",
        "from sklearn.metrics import accuracy_score, classification_report\n",
        "df = pd.read_csv(\"/content/iris.csv\")\n",
        "print(df.head())\n",
        "X = df.drop(\"species\", axis=1)\n",
        "y = df[\"species\"]\n",
        "X_train, X_test, y_train, y_test = train_test_split(X, y, test_size=0.2, random_state=42)\n",
        "model = GaussianNB()\n",
        "model.fit(X_train, y_train)\n",
        "y_pred = model.predict(X_test)\n",
        "print(\"Accuracy:\", accuracy_score(y_test, y_pred))\n",
        "print(\"\\nClassification Report:\\n\", classification_report(y_test, y_pred))\n",
        "results = pd.DataFrame({\n",
        "    'SepalLength': X_test['sepal_length'],\n",
        "    'SepalWidth': X_test['sepal_width'],\n",
        "    'PetalLength': X_test['petal_length'],\n",
        "    'PetalWidth': X_test['petal_width'],\n",
        "    'Actual': y_test.values,\n",
        "    'Predicted': y_pred\n",
        "})\n",
        "print(\"\\nSample Predictions:\\n\", results.head(10))"
      ]
    }
  ]
}