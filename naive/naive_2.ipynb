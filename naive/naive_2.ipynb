{
  "nbformat": 4,
  "nbformat_minor": 0,
  "metadata": {
    "colab": {
      "provenance": []
    },
    "kernelspec": {
      "name": "python3",
      "display_name": "Python 3"
    },
    "language_info": {
      "name": "python"
    }
  },
  "cells": [
    {
      "cell_type": "code",
      "execution_count": 5,
      "metadata": {
        "colab": {
          "base_uri": "https://localhost:8080/"
        },
        "id": "WiVNYwJU80cz",
        "outputId": "45c73784-4dd6-4fa0-dd83-a1a281f8d14d"
      },
      "outputs": [
        {
          "output_type": "stream",
          "name": "stdout",
          "text": [
            "                                                Message Actual Predicted\n",
            "3245  Funny fact Nobody teaches volcanoes 2 erupt, t...    ham       ham\n",
            "944   I sent my scores to sophas and i had to do sec...    ham       ham\n",
            "1044  We know someone who you know that fancies you....   spam       ham\n",
            "2484  Only if you promise your getting out as SOON a...    ham       ham\n",
            "812   Congratulations ur awarded either å£500 of CD ...   spam      spam\n",
            "2973         I'll text carlos and let you know, hang on    ham       ham\n",
            "2991          K.i did't see you.:)k:)where are you now?    ham       ham\n",
            "2942             No message..no responce..what happend?    ham       ham\n",
            "230   Get down in gandhipuram and walk to cross cut ...    ham       ham\n",
            "1181                         You flippin your shit yet?    ham       ham\n",
            "\n",
            "Model Accuracy: 0.9623318385650225\n"
          ]
        }
      ],
      "source": [
        "import pandas as pd\n",
        "from sklearn.model_selection import train_test_split\n",
        "from sklearn.naive_bayes import MultinomialNB\n",
        "from sklearn.feature_extraction.text import TfidfVectorizer\n",
        "from sklearn.metrics import accuracy_score\n",
        "df = pd.read_csv(\"spam.csv\", encoding='ISO-8859-1')\n",
        "df = df[['v1', 'v2']]\n",
        "df.columns = ['Label', 'Message']\n",
        "df['Label'] = df['Label'].map({'ham': 'ham', 'spam': 'spam'})\n",
        "vectorizer = TfidfVectorizer()\n",
        "X = vectorizer.fit_transform(df['Message'])\n",
        "y = df['Label']\n",
        "X_train, X_test, y_train, y_test = train_test_split(X, y, test_size=0.2, random_state=42)\n",
        "model = MultinomialNB()\n",
        "model.fit(X_train, y_train)\n",
        "y_pred = model.predict(X_test)\n",
        "output_df = pd.DataFrame({\n",
        "    'Message': df['Message'].iloc[y_test.index],\n",
        "    'Actual': y_test.values,\n",
        "    'Predicted': y_pred\n",
        "})\n",
        "print(output_df.head(10))\n",
        "print(\"\\nModel Accuracy:\", accuracy_score(y_test, y_pred))\n"
      ]
    }
  ]
}